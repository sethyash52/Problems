{
 "cells": [
  {
   "cell_type": "code",
   "execution_count": 1,
   "id": "4e5fa91c",
   "metadata": {},
   "outputs": [
    {
     "name": "stdout",
     "output_type": "stream",
     "text": [
      "7\n",
      " * \n",
      "  *  * \n",
      "   *  *  * \n",
      "    *  *  *  * \n",
      "   *  *  * \n",
      "  *  * \n",
      " * \n"
     ]
    }
   ],
   "source": [
    "N = int(input())\n",
    "m = N//2\n",
    "i = 1\n",
    "while i <= m + 1:\n",
    "    space = 1\n",
    "    while space <= (i - 1):\n",
    "        print(\" \", end = '')\n",
    "        space = space + 1\n",
    "    o = 1\n",
    "    while o <= i:\n",
    "        print(' * ', end = \"\")\n",
    "        o = o + 1\n",
    "    print()\n",
    "    i = i + 1\n",
    "i = 1\n",
    "while i <= m:\n",
    "    space = 1\n",
    "    while space <= N - (m + i + 1):\n",
    "        print(\" \", end = '')\n",
    "        space = space + 1\n",
    "    o = 1\n",
    "    while o <= N - (m + i):\n",
    "        print(' * ', end = \"\")\n",
    "        o = o+1\n",
    "        \n",
    "    print()\n",
    "    i = i+ 1"
   ]
  },
  {
   "cell_type": "code",
   "execution_count": 2,
   "id": "423cf559",
   "metadata": {},
   "outputs": [
    {
     "name": "stdout",
     "output_type": "stream",
     "text": [
      "7\n",
      "* \n",
      " * * \n",
      "  * * * \n",
      "   * * * * \n",
      "  * * * \n",
      " * * \n",
      "* \n"
     ]
    }
   ],
   "source": [
    "n = int(input())\n",
    "i = 1\n",
    "while i<=n/2+1:\n",
    "    s = 1\n",
    "    while s<=i-1:\n",
    "        print(\" \",end=\"\")\n",
    "        s = s + 1\n",
    "    j = 1\n",
    "    while j<=i:\n",
    "        print(\"*\",end=\"\")\n",
    "        print(\" \",end=\"\")\n",
    "        j = j + 1\n",
    "    print()\n",
    "    i = i + 1\n",
    "i = n//2\n",
    "while i>=1:\n",
    "    s = i-1\n",
    "    while s>=1:\n",
    "        print(\" \",end=\"\")\n",
    "        s = s - 1\n",
    "    j = 1\n",
    "    while j<=i:\n",
    "        print(\"*\",end=\"\")\n",
    "        print(\" \",end=\"\")\n",
    "        j = j + 1\n",
    "    print()\n",
    "    i = i - 1"
   ]
  },
  {
   "cell_type": "code",
   "execution_count": null,
   "id": "0dbeb17c",
   "metadata": {},
   "outputs": [],
   "source": []
  }
 ],
 "metadata": {
  "kernelspec": {
   "display_name": "Python 3 (ipykernel)",
   "language": "python",
   "name": "python3"
  },
  "language_info": {
   "codemirror_mode": {
    "name": "ipython",
    "version": 3
   },
   "file_extension": ".py",
   "mimetype": "text/x-python",
   "name": "python",
   "nbconvert_exporter": "python",
   "pygments_lexer": "ipython3",
   "version": "3.9.7"
  }
 },
 "nbformat": 4,
 "nbformat_minor": 5
}
