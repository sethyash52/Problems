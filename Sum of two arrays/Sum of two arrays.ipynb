{
 "cells": [
  {
   "cell_type": "code",
   "execution_count": 1,
   "id": "f8e715e8",
   "metadata": {},
   "outputs": [
    {
     "name": "stdout",
     "output_type": "stream",
     "text": [
      "1\n",
      "4\n",
      "4 5 6 7\n",
      "5\n",
      "2 1 4 7 8\n",
      "0 2 6 0 4 5 \n"
     ]
    }
   ],
   "source": [
    "# Sum of two arrays\n",
    "\n",
    "from sys import stdin\n",
    "\n",
    "def sumOfTwoArrays(arr1, n, arr2, m, output) :\n",
    "    carry = 0\n",
    "    for i in range(min(n,m)):\n",
    "        num = arr1[(n-i)-1] + arr2[(m-i)-1] + carry\n",
    "        output[max(n,m)-i] = num%10\n",
    "        carry = num//10\n",
    "\n",
    "    \n",
    "    if len(arr1) > len(arr2):\n",
    "        for i in range(n-m):\n",
    "            num = arr1[n-m-(i+1)] + carry\n",
    "            output[n-m-i] = num%10\n",
    "            carry = num//10\n",
    "\n",
    "    \n",
    "    if len(arr2) > len(arr1):\n",
    "        for i in range(m-n):\n",
    "            num = arr2[m-n-(i+1)] + carry\n",
    "            output[m-n-i] = num%10\n",
    "            carry = num//10\n",
    "            \n",
    "    output[0] = carry\n",
    "\n",
    "    return output\n",
    "\n",
    "\n",
    "#Taking Input Using Fast I/O\n",
    "def takeInput() :\n",
    "    n = int(input().rstrip())\n",
    "    if n == 0 :\n",
    "        return list(), 0\n",
    "    \n",
    "    arr = list(map(int, input().rstrip().split(\" \")))\n",
    "    return arr, n\n",
    "\n",
    "\n",
    "#to print the array/list\n",
    "def printList(arr, n) :\n",
    "    for i in range(n) :\n",
    "        print(arr[i], end = \" \")\n",
    "    \n",
    "    print()\n",
    "\n",
    "\n",
    "#main\n",
    "t = int(input().rstrip())\n",
    "\n",
    "while t > 0 :\n",
    "    arr1, n = takeInput()\n",
    "    arr2, m = takeInput()\n",
    "    \n",
    "    outputSize = (1 + max(n, m))\n",
    "    output = outputSize * [0]\n",
    "    \n",
    "    output = sumOfTwoArrays(arr1, n, arr2, m, output)\n",
    "    printList(output, outputSize)\n",
    "    \n",
    "    t -= 1"
   ]
  }
 ],
 "metadata": {
  "kernelspec": {
   "display_name": "Python 3 (ipykernel)",
   "language": "python",
   "name": "python3"
  },
  "language_info": {
   "codemirror_mode": {
    "name": "ipython",
    "version": 3
   },
   "file_extension": ".py",
   "mimetype": "text/x-python",
   "name": "python",
   "nbconvert_exporter": "python",
   "pygments_lexer": "ipython3",
   "version": "3.9.7"
  }
 },
 "nbformat": 4,
 "nbformat_minor": 5
}
