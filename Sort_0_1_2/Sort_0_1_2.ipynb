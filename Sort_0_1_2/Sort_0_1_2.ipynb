{
 "cells": [
  {
   "cell_type": "code",
   "execution_count": 4,
   "id": "51ca5905",
   "metadata": {},
   "outputs": [
    {
     "name": "stdout",
     "output_type": "stream",
     "text": [
      "2\n",
      "5\n",
      "2 2 0 1 0 \n",
      "0 0 1 2 2 \n",
      "7\n",
      "1 0 1 2 2 1 0\n",
      "0 0 1 1 1 2 2 \n"
     ]
    }
   ],
   "source": [
    "# Sort 0 1 2\n",
    "\n",
    "from sys import stdin \n",
    "\n",
    "def sort012(arr, n) :\n",
    "    a1 = list()\n",
    "    a2 = list()\n",
    "    a3 = list()\n",
    "    for i in range(n):\n",
    "        if arr[i] == 0:\n",
    "            a1.append(arr[i])\n",
    "        elif arr[i] == 1:\n",
    "            a2.append(arr[i])\n",
    "        else:\n",
    "            a3.append(arr[i])\n",
    "    s = a1 + a2 + a3\n",
    "    return s\n",
    "\n",
    "\n",
    "#Taking Input Using Fast I/O\n",
    "def takeInput() :\n",
    "    n = int(input().rstrip())\n",
    "    if n == 0 :\n",
    "        return list(), 0\n",
    "\n",
    "    arr = list(map(int, input().rstrip().split(\" \")))\n",
    "    return arr, n\n",
    "\n",
    "\n",
    "#to print the array/list\n",
    "def printList(arr, n) :\n",
    "    for i in range(n) :\n",
    "        print(arr[i], end = \" \")\n",
    "\n",
    "    print()\n",
    "\n",
    "\n",
    "#main\n",
    "t = int(input().rstrip())\n",
    "\n",
    "while t > 0 :\n",
    "    \n",
    "    arr, n = takeInput()\n",
    "\n",
    "    a = sort012(arr, n)\n",
    "    printList(a, n)\n",
    "    \n",
    "    t -= 1"
   ]
  }
 ],
 "metadata": {
  "kernelspec": {
   "display_name": "Python 3 (ipykernel)",
   "language": "python",
   "name": "python3"
  },
  "language_info": {
   "codemirror_mode": {
    "name": "ipython",
    "version": 3
   },
   "file_extension": ".py",
   "mimetype": "text/x-python",
   "name": "python",
   "nbconvert_exporter": "python",
   "pygments_lexer": "ipython3",
   "version": "3.9.7"
  }
 },
 "nbformat": 4,
 "nbformat_minor": 5
}
