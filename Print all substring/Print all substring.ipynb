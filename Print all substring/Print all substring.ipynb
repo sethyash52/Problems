{
 "cells": [
  {
   "cell_type": "code",
   "execution_count": 1,
   "id": "e6a5f61d",
   "metadata": {},
   "outputs": [
    {
     "name": "stdout",
     "output_type": "stream",
     "text": [
      "abcd\n",
      "a\n",
      "b\n",
      "c\n",
      "d\n",
      "ab\n",
      "bc\n",
      "cd\n",
      "abc\n",
      "bcd\n",
      "abcd\n"
     ]
    }
   ],
   "source": [
    "from sys import stdin\n",
    "\n",
    "\n",
    "def printSubstrings(string) :\n",
    "    \n",
    "     \n",
    "    # Pick starting point\n",
    "    for Len in range(1,len(string) + 1):\n",
    "         \n",
    "        # Pick ending point\n",
    "        for i in range(len(string) - Len + 1):\n",
    "             \n",
    "            # Print characters from current\n",
    "            # starting point to current ending\n",
    "            # point.\n",
    "            j = i + Len - 1\n",
    " \n",
    "            for k in range(i,j + 1):\n",
    "                print(string[k],end=\"\")\n",
    "            print()\n",
    "\n",
    "\n",
    "#main\n",
    "string = input().strip();\n",
    "printSubstrings(string)"
   ]
  }
 ],
 "metadata": {
  "kernelspec": {
   "display_name": "Python 3 (ipykernel)",
   "language": "python",
   "name": "python3"
  },
  "language_info": {
   "codemirror_mode": {
    "name": "ipython",
    "version": 3
   },
   "file_extension": ".py",
   "mimetype": "text/x-python",
   "name": "python",
   "nbconvert_exporter": "python",
   "pygments_lexer": "ipython3",
   "version": "3.9.7"
  }
 },
 "nbformat": 4,
 "nbformat_minor": 5
}
