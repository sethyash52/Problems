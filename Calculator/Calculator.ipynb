{
 "cells": [
  {
   "cell_type": "code",
   "execution_count": 1,
   "id": "864ef6ed",
   "metadata": {},
   "outputs": [
    {
     "name": "stdout",
     "output_type": "stream",
     "text": [
      "6\n"
     ]
    }
   ],
   "source": [
    "# Calculator\n",
    "\n",
    "while True:\n",
    "    n = int(input())\n",
    "    if n == 1:\n",
    "        a = int(input())\n",
    "        b = int(input())\n",
    "        sum = a + b\n",
    "        print(sum)\n",
    "    elif n == 2:\n",
    "        a = int(input())\n",
    "        b = int(input())\n",
    "        diff = a - b\n",
    "        print(diff)\n",
    "    elif n == 3:\n",
    "        a = int(input())\n",
    "        b = int(input())\n",
    "        pro = a*b\n",
    "        print(pro)\n",
    "    elif n == 4:\n",
    "        a = int(input())\n",
    "        b = int(input())\n",
    "        q = int(a/b)\n",
    "        print(q)\n",
    "    elif n == 5:\n",
    "        a = int(input())\n",
    "        b = int(input())\n",
    "        r = int(a%b)\n",
    "        print(r)\n",
    "    elif n==6:\n",
    "        break\n",
    "    else:\n",
    "        print(\"Invalid Operation\")"
   ]
  },
  {
   "cell_type": "code",
   "execution_count": null,
   "id": "12930a1f",
   "metadata": {},
   "outputs": [],
   "source": []
  }
 ],
 "metadata": {
  "kernelspec": {
   "display_name": "Python 3 (ipykernel)",
   "language": "python",
   "name": "python3"
  },
  "language_info": {
   "codemirror_mode": {
    "name": "ipython",
    "version": 3
   },
   "file_extension": ".py",
   "mimetype": "text/x-python",
   "name": "python",
   "nbconvert_exporter": "python",
   "pygments_lexer": "ipython3",
   "version": "3.9.7"
  }
 },
 "nbformat": 4,
 "nbformat_minor": 5
}
