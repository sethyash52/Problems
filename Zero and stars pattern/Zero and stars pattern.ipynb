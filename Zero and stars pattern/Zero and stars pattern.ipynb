{
 "cells": [
  {
   "cell_type": "code",
   "execution_count": 1,
   "id": "01532d1d",
   "metadata": {},
   "outputs": [
    {
     "name": "stdout",
     "output_type": "stream",
     "text": [
      "5\n",
      "*0000*0000*\n",
      "0*000*000*0\n",
      "00*00*00*00\n",
      "000*0*0*000\n",
      "0000***0000\n"
     ]
    }
   ],
   "source": [
    "# Zero and stars patterns\n",
    "\n",
    "\n",
    "N = int(input())\n",
    "i = 1\n",
    "while i <= N:\n",
    "    j = 1\n",
    "    while j <= i:\n",
    "        if j == i:\n",
    "            print('*', end = \"\")\n",
    "        else :\n",
    "            print('0', end = \"\")\n",
    "        j = j + 1\n",
    "    o = 1\n",
    "    while o <= ((N + 1) - i):\n",
    "        if o == (N+1) - i:\n",
    "            print('*', end = \"\")\n",
    "        else :\n",
    "            print('0', end = \"\")\n",
    "        o = o + 1\n",
    "    m = 1\n",
    "    while m <= N - i:\n",
    "        print('0', end = \"\")\n",
    "        m = m + 1\n",
    "    oc = 1\n",
    "    while oc <= i:\n",
    "        if oc == 1:\n",
    "            print(\"*\", end = \"\")\n",
    "        else:\n",
    "            print(\"0\", end = \"\")\n",
    "        oc = oc + 1\n",
    "    print()\n",
    "    i = i+1"
   ]
  }
 ],
 "metadata": {
  "kernelspec": {
   "display_name": "Python 3 (ipykernel)",
   "language": "python",
   "name": "python3"
  },
  "language_info": {
   "codemirror_mode": {
    "name": "ipython",
    "version": 3
   },
   "file_extension": ".py",
   "mimetype": "text/x-python",
   "name": "python",
   "nbconvert_exporter": "python",
   "pygments_lexer": "ipython3",
   "version": "3.9.7"
  }
 },
 "nbformat": 4,
 "nbformat_minor": 5
}
